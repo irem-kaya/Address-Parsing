{
 "cells": [
  {
   "cell_type": "code",
   "execution_count": 1,
   "id": "557504b7",
   "metadata": {},
   "outputs": [
    {
     "name": "stdout",
     "output_type": "stream",
     "text": [
      "Train shape: (1000, 2)\n",
      "Test shape: (1000, 2)\n"
     ]
    },
    {
     "data": {
      "text/html": [
       "<div>\n",
       "<style scoped>\n",
       "    .dataframe tbody tr th:only-of-type {\n",
       "        vertical-align: middle;\n",
       "    }\n",
       "\n",
       "    .dataframe tbody tr th {\n",
       "        vertical-align: top;\n",
       "    }\n",
       "\n",
       "    .dataframe thead th {\n",
       "        text-align: right;\n",
       "    }\n",
       "</style>\n",
       "<table border=\"1\" class=\"dataframe\">\n",
       "  <thead>\n",
       "    <tr style=\"text-align: right;\">\n",
       "      <th></th>\n",
       "      <th>address</th>\n",
       "      <th>label</th>\n",
       "    </tr>\n",
       "  </thead>\n",
       "  <tbody>\n",
       "    <tr>\n",
       "      <th>0</th>\n",
       "      <td>Akarca Mah. Adnan Menderes Cad. 864.Sok. No:15...</td>\n",
       "      <td>8831</td>\n",
       "    </tr>\n",
       "    <tr>\n",
       "      <th>1</th>\n",
       "      <td>Cumhuriye Mah. Hükümet Cad. Sivriler İşhanı No...</td>\n",
       "      <td>8810</td>\n",
       "    </tr>\n",
       "    <tr>\n",
       "      <th>2</th>\n",
       "      <td>İsmet inönü mahallesi 2001 sokak no:2 Çeşme be...</td>\n",
       "      <td>3067</td>\n",
       "    </tr>\n",
       "    <tr>\n",
       "      <th>3</th>\n",
       "      <td>Gazeteci Hasan Tahsin Caddesi, No:10/3,  Gizem...</td>\n",
       "      <td>8210</td>\n",
       "    </tr>\n",
       "    <tr>\n",
       "      <th>4</th>\n",
       "      <td>Bitez mahallesi Adnan Menderes caddesi gündonu...</td>\n",
       "      <td>9675</td>\n",
       "    </tr>\n",
       "  </tbody>\n",
       "</table>\n",
       "</div>"
      ],
      "text/plain": [
       "                                             address  label\n",
       "0  Akarca Mah. Adnan Menderes Cad. 864.Sok. No:15...   8831\n",
       "1  Cumhuriye Mah. Hükümet Cad. Sivriler İşhanı No...   8810\n",
       "2  İsmet inönü mahallesi 2001 sokak no:2 Çeşme be...   3067\n",
       "3  Gazeteci Hasan Tahsin Caddesi, No:10/3,  Gizem...   8210\n",
       "4  Bitez mahallesi Adnan Menderes caddesi gündonu...   9675"
      ]
     },
     "execution_count": 1,
     "metadata": {},
     "output_type": "execute_result"
    }
   ],
   "source": [
    "import pandas as pd\n",
    "\n",
    "train = pd.read_csv(\"../data/raw/train.csv\", nrows=1000)  # sadece 1000 satır oku\n",
    "test = pd.read_csv(\"../data/raw/test.csv\", nrows=1000)\n",
    "\n",
    "print(\"Train shape:\", train.shape)\n",
    "print(\"Test shape:\", test.shape)\n",
    "train.head()\n"
   ]
  },
  {
   "cell_type": "code",
   "execution_count": 2,
   "id": "b528185c",
   "metadata": {},
   "outputs": [
    {
     "name": "stdout",
     "output_type": "stream",
     "text": [
      "Train shape: (1000, 2)\n",
      "Test shape: (1000, 2)\n",
      "Sütunlar: ['address', 'label']\n"
     ]
    }
   ],
   "source": [
    "print(\"Train shape:\", train.shape)\n",
    "print(\"Test shape:\", test.shape)\n",
    "print(\"Sütunlar:\", train.columns.tolist())\n"
   ]
  },
  {
   "cell_type": "code",
   "execution_count": 3,
   "id": "e50627b0",
   "metadata": {},
   "outputs": [
    {
     "name": "stdout",
     "output_type": "stream",
     "text": [
      "\n",
      "Boş değer yüzdeleri (Train):\n",
      "address    0.0\n",
      "label      0.0\n",
      "dtype: float64\n",
      "\n",
      "Boş değer yüzdeleri (Test):\n",
      "id         0.0\n",
      "address    0.0\n",
      "dtype: float64\n"
     ]
    }
   ],
   "source": [
    "print(\"\\nBoş değer yüzdeleri (Train):\")\n",
    "print(train.isna().mean() * 100)\n",
    "\n",
    "print(\"\\nBoş değer yüzdeleri (Test):\")\n",
    "print(test.isna().mean() * 100)\n"
   ]
  },
  {
   "cell_type": "code",
   "execution_count": 4,
   "id": "32366b71",
   "metadata": {},
   "outputs": [
    {
     "name": "stdout",
     "output_type": "stream",
     "text": [
      "\n",
      "Benzersiz label sayısı: 944\n",
      "Toplam satır: 1000\n",
      "Ortalama tekrar: 1.0593220338983051\n"
     ]
    }
   ],
   "source": [
    "print(\"\\nBenzersiz label sayısı:\", train['label'].nunique())\n",
    "print(\"Toplam satır:\", len(train))\n",
    "print(\"Ortalama tekrar:\", len(train) / train['label'].nunique())\n"
   ]
  },
  {
   "cell_type": "code",
   "execution_count": 5,
   "id": "34a5b5ab",
   "metadata": {},
   "outputs": [
    {
     "data": {
      "text/html": [
       "<div>\n",
       "<style scoped>\n",
       "    .dataframe tbody tr th:only-of-type {\n",
       "        vertical-align: middle;\n",
       "    }\n",
       "\n",
       "    .dataframe tbody tr th {\n",
       "        vertical-align: top;\n",
       "    }\n",
       "\n",
       "    .dataframe thead th {\n",
       "        text-align: right;\n",
       "    }\n",
       "</style>\n",
       "<table border=\"1\" class=\"dataframe\">\n",
       "  <thead>\n",
       "    <tr style=\"text-align: right;\">\n",
       "      <th></th>\n",
       "      <th>address</th>\n",
       "      <th>label</th>\n",
       "    </tr>\n",
       "  </thead>\n",
       "  <tbody>\n",
       "    <tr>\n",
       "      <th>521</th>\n",
       "      <td>Adnan Menderes Mh 134 Sokak no 14 /2</td>\n",
       "      <td>7730</td>\n",
       "    </tr>\n",
       "    <tr>\n",
       "      <th>737</th>\n",
       "      <td>Taşyaka mahallesi sanayi sitesi 253 sokak no 54</td>\n",
       "      <td>8839</td>\n",
       "    </tr>\n",
       "    <tr>\n",
       "      <th>740</th>\n",
       "      <td>SARIGERME MAHALLESİ Dönmezler cad. 2050 sok. N...</td>\n",
       "      <td>9064</td>\n",
       "    </tr>\n",
       "    <tr>\n",
       "      <th>660</th>\n",
       "      <td>306/2 sk. No:22 d:12 k:3 Şirinyer Buca İzmir E...</td>\n",
       "      <td>4013</td>\n",
       "    </tr>\n",
       "    <tr>\n",
       "      <th>411</th>\n",
       "      <td>Atatürk Cd. ( Rüya Evleri Sitesi )\\nA2 Blok - ...</td>\n",
       "      <td>2985</td>\n",
       "    </tr>\n",
       "  </tbody>\n",
       "</table>\n",
       "</div>"
      ],
      "text/plain": [
       "                                               address  label\n",
       "521               Adnan Menderes Mh 134 Sokak no 14 /2   7730\n",
       "737    Taşyaka mahallesi sanayi sitesi 253 sokak no 54   8839\n",
       "740  SARIGERME MAHALLESİ Dönmezler cad. 2050 sok. N...   9064\n",
       "660  306/2 sk. No:22 d:12 k:3 Şirinyer Buca İzmir E...   4013\n",
       "411  Atatürk Cd. ( Rüya Evleri Sitesi )\\nA2 Blok - ...   2985"
      ]
     },
     "execution_count": 5,
     "metadata": {},
     "output_type": "execute_result"
    }
   ],
   "source": [
    "train.sample(5, random_state=42)\n"
   ]
  },
  {
   "cell_type": "code",
   "execution_count": 6,
   "id": "01ccb21e",
   "metadata": {},
   "outputs": [
    {
     "data": {
      "text/plain": [
       "label\n",
       "9359    3\n",
       "344     2\n",
       "1420    2\n",
       "9894    2\n",
       "1751    2\n",
       "3230    2\n",
       "8668    2\n",
       "1770    2\n",
       "8908    2\n",
       "5739    2\n",
       "Name: count, dtype: int64"
      ]
     },
     "execution_count": 6,
     "metadata": {},
     "output_type": "execute_result"
    }
   ],
   "source": [
    "train['label'].value_counts().head(10)\n"
   ]
  }
 ],
 "metadata": {
  "kernelspec": {
   "display_name": ".venv",
   "language": "python",
   "name": "python3"
  },
  "language_info": {
   "codemirror_mode": {
    "name": "ipython",
    "version": 3
   },
   "file_extension": ".py",
   "mimetype": "text/x-python",
   "name": "python",
   "nbconvert_exporter": "python",
   "pygments_lexer": "ipython3",
   "version": "3.12.1"
  }
 },
 "nbformat": 4,
 "nbformat_minor": 5
}
